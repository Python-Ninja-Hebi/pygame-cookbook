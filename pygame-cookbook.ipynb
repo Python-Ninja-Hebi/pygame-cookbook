{
 "cells": [
  {
   "cell_type": "markdown",
   "metadata": {},
   "source": [
    "# Pygame Cookbook - Recipes for Mastering Pygame"
   ]
  },
  {
   "cell_type": "markdown",
   "metadata": {},
   "source": [
    "Hi,\n",
    "\n",
    "in the last years I used **Python** and the module **Pygame** to create some games. I found many information about **Pygame** on many different places in the web. I would prefer one book where I can look for solutions. So I started to write this `Pygame Cookbook`.  \n",
    "\n",
    "**Pygame** (https://www.pygame.org) is a create library for making your own games with python. **Pygame** uses the **SDL** library.\n",
    "\n",
    "This `Pygame Cookbook` tries to explain the building blocks of a game simple and in detail.\n",
    "\n",
    "The official documentation of **Pygame** is available at https://www.pygame.org/docs/.\n",
    "\n",
    "If you like `Pygame Cookbook`, use it. If you have some suggestions, tell me (hebi@python-ninja.com).\n",
    "\n",
    "All game assets that I use in recipes are from https://www.kenney.nl. Thank you.\n",
    "\n",
    "Have fun.\n",
    "\n",
    "Hebi, on the way to Python Ninja"
   ]
  },
  {
   "cell_type": "markdown",
   "metadata": {},
   "source": [
    "`Edition 0.2, August 2021`"
   ]
  },
  {
   "cell_type": "markdown",
   "metadata": {},
   "source": [
    "## install pygame"
   ]
  },
  {
   "cell_type": "markdown",
   "metadata": {},
   "source": [
    "Prerequisite for using the `Pygame Cookbook` is that the Python library **Pygame** is installed on your computer."
   ]
  },
  {
   "cell_type": "raw",
   "metadata": {},
   "source": [
    "$ pip install pygame"
   ]
  },
  {
   "cell_type": "markdown",
   "metadata": {},
   "source": [
    "More about installing pygame https://www.pygame.org/wiki/GettingStarted#Pygame%20Installation"
   ]
  },
  {
   "cell_type": "markdown",
   "metadata": {},
   "source": [
    "You can use **Pygame** with different programming environments. A very convenient way to try the recipes of this Cookbook is to copy the **Jupyter Notebook** version (file *pygame-cookbook.ipynb*) to your computer and evaluate the cells your interested in."
   ]
  },
  {
   "cell_type": "markdown",
   "metadata": {},
   "source": [
    "## pygame and jupyter notebooks"
   ]
  },
  {
   "cell_type": "markdown",
   "metadata": {
    "tags": []
   },
   "source": [
    "#### Task: Using pygame with Jupyter Notebooks"
   ]
  },
  {
   "cell_type": "markdown",
   "metadata": {},
   "source": [
    "**Solution:**"
   ]
  },
  {
   "cell_type": "markdown",
   "metadata": {},
   "source": [
    "Open a window that shows the drawing of pygame.  \n",
    "\n",
    "You can "
   ]
  },
  {
   "cell_type": "code",
   "execution_count": 1,
   "metadata": {},
   "outputs": [
    {
     "name": "stdout",
     "output_type": "stream",
     "text": [
      "pygame 2.0.1 (SDL 2.0.14, Python 3.8.8)\n",
      "Hello from the pygame community. https://www.pygame.org/contribute.html\n"
     ]
    }
   ],
   "source": [
    "%gui qt\n",
    "import pygame\n",
    " \n",
    "pygame.init() #start the pygame module\n",
    "\n",
    "screen = pygame.display.set_mode((400, 300)) #get access to the display\n",
    "\n",
    "pygame.display.update() #update the display"
   ]
  },
  {
   "cell_type": "markdown",
   "metadata": {},
   "source": [
    "Now you can use another jupyter cell to draw a rectangle."
   ]
  },
  {
   "cell_type": "code",
   "execution_count": 2,
   "metadata": {},
   "outputs": [],
   "source": [
    "pygame.draw.rect(screen, (0, 128, 255), pygame.Rect(30, 30, 60, 60)) #draw a rectangle\n",
    "\n",
    "pygame.display.update() #update display"
   ]
  },
  {
   "cell_type": "markdown",
   "metadata": {},
   "source": [
    "At least close the pygame window."
   ]
  },
  {
   "cell_type": "code",
   "execution_count": 3,
   "metadata": {},
   "outputs": [],
   "source": [
    "pygame.quit() #stop the pygame module"
   ]
  },
  {
   "cell_type": "markdown",
   "metadata": {},
   "source": [
    "<img src=\"img/jupyter_pygame.png\" width=\"280\" align=\"left\"><br><br><br><br><br><br><br><br><br><br><br>"
   ]
  },
  {
   "cell_type": "markdown",
   "metadata": {},
   "source": [
    "**Explanation:**\n",
    "\n",
    "With the magic command`%gui qt` **Jupyter** can work together with **Pygame**. This enables the use of the Jupyter GUI and the entries in the Pygame window at the same time. Therefore every recipe in this `Pygame Cookbook` has the magic command`%gui qt` in the first line.\n",
    "\n",
    "You don't need that, if you want to try a recipe in a different Python environment."
   ]
  },
  {
   "cell_type": "markdown",
   "metadata": {},
   "source": [
    "**More:**\n",
    "\n",
    "https://ipython.readthedocs.io/en/stable/config/eventloops.html"
   ]
  },
  {
   "cell_type": "markdown",
   "metadata": {
    "tags": []
   },
   "source": [
    "## simple gameloop"
   ]
  },
  {
   "cell_type": "markdown",
   "metadata": {
    "tags": []
   },
   "source": [
    "#### Task: simple program structure that works with every game"
   ]
  },
  {
   "cell_type": "markdown",
   "metadata": {},
   "source": [
    "**Solution:**"
   ]
  },
  {
   "cell_type": "markdown",
   "metadata": {},
   "source": [
    "Opens a window that shows the drawing of pygame."
   ]
  },
  {
   "cell_type": "code",
   "execution_count": 2,
   "metadata": {},
   "outputs": [
    {
     "name": "stdout",
     "output_type": "stream",
     "text": [
      "pygame 2.0.1 (SDL 2.0.14, Python 3.8.8)\n",
      "Hello from the pygame community. https://www.pygame.org/contribute.html\n"
     ]
    }
   ],
   "source": [
    "%gui qt\n",
    "import pygame\n",
    "\n",
    "# ---- Initialize ----\n",
    "\n",
    "pygame.init()\n",
    "\n",
    "SIZE = WIDTH, HEIGHT = 320, 240\n",
    "BLACK = 0, 0, 0\n",
    "BLUE = 0, 0, 255\n",
    "\n",
    "running = True\n",
    "screen = pygame.display.set_mode(SIZE)\n",
    "\n",
    "# ---- Game loop ----\n",
    "\n",
    "while running:\n",
    "    \n",
    "    # ---- input ----\n",
    "    for event in pygame.event.get():\n",
    "        if event.type == pygame.QUIT: \n",
    "            running = False\n",
    "    \n",
    "    # ---- update ---- \n",
    "    \n",
    "    # ---- draw ----\n",
    "    screen.fill(BLACK)\n",
    "    pygame.draw.rect(screen, BLUE, pygame.Rect(30, 30, 60, 60)) #draw a rectangle\n",
    "    pygame.display.flip()\n",
    "\n",
    "# ---- Quit ----\n",
    "\n",
    "pygame.quit()"
   ]
  },
  {
   "cell_type": "markdown",
   "metadata": {},
   "source": [
    "<img src=\"img/simple_gameloop.png\" width=\"280\" align=\"left\"><br><br><br><br><br><br><br><br><br><br>"
   ]
  },
  {
   "cell_type": "markdown",
   "metadata": {},
   "source": [
    "**Explanation:**\n",
    "\n",
    "Every game consists of the same building blocks:\n",
    "    \n",
    "* **Input**: Read input from player. Which keys are pressed? Did the  mouse move? Any other input device lika a joystick?\n",
    "* **Update**: Do the changes in the game world\n",
    "* **Draw**: Show the changes on the screen  \n",
    "    \n",
    "* and start all over again\n",
    "\n",
    "This is called **game loop** or **event loop**."
   ]
  },
  {
   "cell_type": "markdown",
   "metadata": {},
   "source": [
    "`import pygame` .. import the Pygame module  \n",
    "`init() -> (numpass, numfail)` .. initialize all imported Pygame modules. Some Pygame modules needs to be initialized. Return value *numfail* shows how many modules could not be initialized by Pygame."
   ]
  },
  {
   "cell_type": "markdown",
   "metadata": {},
   "source": [
    "`pygame.display.set_mode()` .. return a *Surface* object on which python can draw. The first parameters define the size. The created display will be the best supported by the system. \n",
    "\n",
    "There are many additional flags:\n",
    "\n",
    "`pygame.FULLSCREEN` .. fullscreen no window  \n",
    "`pygame.HWSURFACE` .. hardware accelerated (only fullscreen). \n",
    "`pygame.OPENGL` .. create an OpenGL-renderable display  \n",
    "`pygame.RESIZABLE` .. resizable window  \n",
    "`pygame.NOFRAME` .. window without border or controls  "
   ]
  },
  {
   "cell_type": "markdown",
   "metadata": {},
   "source": [
    "`pygame.event.get(eventtype=None) -> Eventlist` .. get next event from Pygame.   \n",
    "`if event.type == pygame.QUIT: ` .. user clicked on the close control of the window."
   ]
  },
  {
   "cell_type": "markdown",
   "metadata": {
    "tags": []
   },
   "source": [
    "`screen.fill(BLACK)` .. fill the complete display with color   \n",
    "`pygame.draw.rect` .. draw a rectangle on the display"
   ]
  },
  {
   "cell_type": "markdown",
   "metadata": {},
   "source": [
    "`pygame.display.flip()` .. show changed display on the screen"
   ]
  },
  {
   "cell_type": "markdown",
   "metadata": {},
   "source": [
    "`pygame.quit() -> None` .. uninitialize all imported Pygame modules"
   ]
  },
  {
   "cell_type": "markdown",
   "metadata": {},
   "source": [
    "This **loop** will be used in the most recipes."
   ]
  },
  {
   "cell_type": "markdown",
   "metadata": {},
   "source": [
    "**more**  \n",
    "* Pygame documentaion https://www.pygame.org/docs/"
   ]
  },
  {
   "cell_type": "markdown",
   "metadata": {},
   "source": [
    "## gameloop with timing"
   ]
  },
  {
   "cell_type": "markdown",
   "metadata": {},
   "source": [
    "#### Task: integrating time into the game loop"
   ]
  },
  {
   "cell_type": "markdown",
   "metadata": {},
   "source": [
    "**Solution:**"
   ]
  },
  {
   "cell_type": "markdown",
   "metadata": {},
   "source": [
    "using class **pygame.time.clock** to get a good timing"
   ]
  },
  {
   "cell_type": "code",
   "execution_count": 10,
   "metadata": {},
   "outputs": [],
   "source": [
    "%gui qt\n",
    "import pygame\n",
    "\n",
    "# ---- Initialize ----\n",
    "\n",
    "pygame.init()\n",
    "\n",
    "SIZE = WIDTH, HEIGHT = 320, 240\n",
    "BLACK = 0, 0, 0\n",
    "BLUE = 0, 0, 255\n",
    "\n",
    "running = True\n",
    "screen = pygame.display.set_mode(SIZE)\n",
    "\n",
    "clock = pygame.time.Clock() #create clock object\n",
    "\n",
    "FRAMES_PER_SECOND = 30      #who many pictures per second should pygame generate?\n",
    "\n",
    "x_position = 60             #position of the blue rectangel\n",
    "PIXELS_PER_SECOND = 40      #how many pixels per second should the rectangele be moved?\n",
    "\n",
    "# ---- Game loop ----\n",
    "\n",
    "while running:\n",
    "    \n",
    "    # ---- input ----\n",
    "    for event in pygame.event.get():\n",
    "        if event.type == pygame.QUIT: \n",
    "            running = False\n",
    "    \n",
    "    # ---- update ---- \n",
    "    delta_time = clock.tick(FRAMES_PER_SECOND)     # time since last frame\n",
    "    \n",
    "    x_position = x_position + delta_time/1000 * PIXELS_PER_SECOND #next position of the rectanel\n",
    " \n",
    "    if x_position > WIDTH: #rectangele vanishes right start from left again\n",
    "        x_position = 0\n",
    "    \n",
    "    # ---- draw ----\n",
    "    screen.fill(BLACK)\n",
    "    pygame.draw.rect(screen, BLUE, pygame.Rect(int(x_position), 30, 60, 60)) #draw a rectangle\n",
    "    pygame.display.flip()\n",
    "\n",
    "# ---- Quit ----\n",
    "\n",
    "pygame.quit()"
   ]
  },
  {
   "cell_type": "markdown",
   "metadata": {},
   "source": [
    "**Explanation:**\n",
    "\n",
    "**Pygame** comes with an integrated class for timing: **pygame.time.Clock**\n",
    "\n",
    "**-Initialize-**\n",
    "\n",
    "First you have to create your own **clock** object.  \n",
    "\n",
    "`clock = pygame.time.Clock()`\n",
    "\n",
    "`FRAMES_PER_SECOND = 30` .. you have to define how many frames (pictures) should be maximal drawn by **Pygame** in a second\n",
    "\n",
    "`x_position = 60` .. the blue rectangle will move from left to right. In every frame the script will use the time since the last frame to calculate the new position.  \n",
    "\n",
    "`PIXELS_PER_SECOND = 40` .. the speed (velocity) of the rectangle will be 40 pixels in one second.\n",
    "\n",
    "**-Game loop update()-**\n",
    "\n",
    "`delta_time = clock.tick(FRAMES_PER_SECOND)` .. returns the milliseconds since the last frame.   \n",
    "The parameter *FRAMES_PER_SECOND* defines the maximal number of frames per second. It limits the runtime. **Pygame** will not draw more frames per second.\n",
    "\n",
    "`x_position = x_position + delta_time/1000 * PIXELS_PER_SECOND` .. to get the distance covered since the last frame you have to multiply the elapsed time by the velocity. *delta_time* is in milliseconds but you need the time in seconds. So you have to divide with thousand.\n",
    " \n",
    "`if x_position > WIDTH: x_position = 0`.. before the rectangel is vanishing from the screen you have to start from the left side again"
   ]
  },
  {
   "cell_type": "markdown",
   "metadata": {},
   "source": [
    "## basics"
   ]
  },
  {
   "cell_type": "markdown",
   "metadata": {},
   "source": [
    "#### coordinates"
   ]
  },
  {
   "cell_type": "code",
   "execution_count": null,
   "metadata": {},
   "outputs": [],
   "source": []
  },
  {
   "cell_type": "markdown",
   "metadata": {},
   "source": [
    "#### colors <a id='colors'></a>"
   ]
  },
  {
   "cell_type": "code",
   "execution_count": null,
   "metadata": {},
   "outputs": [],
   "source": []
  },
  {
   "cell_type": "markdown",
   "metadata": {},
   "source": [
    "#### Rect <a id='Rect'></a>"
   ]
  },
  {
   "cell_type": "code",
   "execution_count": null,
   "metadata": {},
   "outputs": [],
   "source": []
  },
  {
   "cell_type": "markdown",
   "metadata": {},
   "source": [
    "<img src=\"img/rect.png\" width=\"320\" align=\"left\"><br><br><br><br><br><br><br><br><br><br>"
   ]
  },
  {
   "cell_type": "markdown",
   "metadata": {},
   "source": [
    "## draw"
   ]
  },
  {
   "cell_type": "markdown",
   "metadata": {},
   "source": [
    "### rectangle"
   ]
  },
  {
   "cell_type": "markdown",
   "metadata": {},
   "source": [
    "#### Task: drawing a rectangle"
   ]
  },
  {
   "cell_type": "markdown",
   "metadata": {},
   "source": [
    "**Solution:**"
   ]
  },
  {
   "cell_type": "code",
   "execution_count": 4,
   "metadata": {},
   "outputs": [],
   "source": [
    "%gui qt\n",
    "import pygame\n",
    "\n",
    "pygame.init()\n",
    "\n",
    "SIZE = WIDTH, HEIGHT = 320, 240\n",
    "BLACK = 0, 0, 0\n",
    "BLUE = 0, 0, 255\n",
    "running = True\n",
    "screen = pygame.display.set_mode(SIZE)\n",
    "\n",
    "while running:\n",
    "    \n",
    "    for event in pygame.event.get():\n",
    "        if event.type == pygame.QUIT: \n",
    "            running = False\n",
    "            \n",
    "    screen.fill(pygame.Color('black'))\n",
    "    pygame.draw.rect(screen, pygame.Color('blue'), pygame.Rect(30, 30, 60, 60))\n",
    "    pygame.display.flip()\n",
    "\n",
    "pygame.quit()"
   ]
  },
  {
   "cell_type": "code",
   "execution_count": 8,
   "metadata": {},
   "outputs": [],
   "source": [
    "%gui qt\n",
    "import pygame\n",
    "\n",
    "# ---- Initialize ----\n",
    "\n",
    "pygame.init()\n",
    "\n",
    "SIZE = WIDTH, HEIGHT = 320, 120\n",
    "\n",
    "running = True\n",
    "screen = pygame.display.set_mode(SIZE)\n",
    "\n",
    "# ---- Game loop ----\n",
    "\n",
    "while running:\n",
    "    \n",
    "    # ---- input ----\n",
    "    for event in pygame.event.get():\n",
    "        if event.type == pygame.QUIT: \n",
    "            running = False\n",
    "    \n",
    "    # ---- update ---- \n",
    "    \n",
    "    # ---- draw ----\n",
    "    screen.fill(BLACK)\n",
    "    \n",
    "    pygame.draw.rect(screen, pygame.Color('blue'), pygame.Rect(30, 30, 60, 60)) #fill area\n",
    "    \n",
    "    pygame.draw.rect(screen, pygame.Color('blue'), pygame.Rect(120, 30, 60, 60), width=1) #border\n",
    "    \n",
    "    pygame.draw.rect(screen, pygame.Color('blue'), pygame.Rect(210, 30, 60, 60), width=2, border_radius=8) #rounded border\n",
    "    \n",
    "    pygame.display.flip()\n",
    "\n",
    "# ---- Quit ----\n",
    "\n",
    "pygame.quit()"
   ]
  },
  {
   "cell_type": "markdown",
   "metadata": {},
   "source": [
    "<img src=\"img/draw_rectangle.png\" width=\"560\" align=\"left\"><br><br><br><br><br><br><br><br><br><br>"
   ]
  },
  {
   "cell_type": "markdown",
   "metadata": {},
   "source": [
    "**Explanation:**\n",
    "\n",
    "A rectangle can consist of a fill area and a border.\n",
    "\n",
    "**Drawing the fill area with function rect**\n",
    "\n",
    "`rect(surface, color, rect) -> Rec` .. draws a rectangle to the output surface and returns an object of the class **Rect**  \n",
    "\n",
    "`surface`.. Surface to draw on\n",
    "\n",
    "`color` .. different ways to describe a [color](#colors) in **Pygame**\n",
    "\n",
    "`rec` .. rectangle that describes position, width and height\n",
    "\n",
    "With\n",
    "\n",
    "`Rect(left, top, width, height) -> Rect` .. you can create a new [Rect](#Rect) from position (left, top) and dimension (width, height)\n",
    "\n",
    "**Drawing the border with function rect**\n",
    "\n",
    "`rect(surface, color, rect, width=0, border_radius=0) -> Rect` .. draws the border of a rectangle to the output surface and returns an object of the class **Rect**\n",
    "\n",
    "`width`.. thickness of the border in Pixel. (if is 0, **Pygame** draws a filled rectangle)\n",
    "\n",
    "`border_radius`.. draws border with rounded corners (if is 0, no rounded corners)\n"
   ]
  },
  {
   "cell_type": "markdown",
   "metadata": {},
   "source": [
    "**more**  \n",
    "* Pygame documentation http://www.pygame.org/docs/ref/draw.html"
   ]
  },
  {
   "cell_type": "markdown",
   "metadata": {},
   "source": [
    "### polygon, circle, ellipse, arc "
   ]
  },
  {
   "cell_type": "code",
   "execution_count": null,
   "metadata": {
    "jupyter": {
     "source_hidden": true
    },
    "tags": []
   },
   "outputs": [],
   "source": []
  },
  {
   "cell_type": "markdown",
   "metadata": {},
   "source": [
    "### line"
   ]
  },
  {
   "cell_type": "code",
   "execution_count": null,
   "metadata": {},
   "outputs": [],
   "source": []
  },
  {
   "cell_type": "code",
   "execution_count": null,
   "metadata": {},
   "outputs": [],
   "source": []
  },
  {
   "cell_type": "code",
   "execution_count": null,
   "metadata": {},
   "outputs": [],
   "source": []
  },
  {
   "cell_type": "code",
   "execution_count": null,
   "metadata": {},
   "outputs": [],
   "source": []
  },
  {
   "cell_type": "markdown",
   "metadata": {},
   "source": [
    "## image"
   ]
  },
  {
   "cell_type": "markdown",
   "metadata": {},
   "source": [
    "## text"
   ]
  },
  {
   "cell_type": "markdown",
   "metadata": {},
   "source": [
    "## transparent"
   ]
  },
  {
   "cell_type": "markdown",
   "metadata": {},
   "source": [
    "## mouse"
   ]
  },
  {
   "cell_type": "markdown",
   "metadata": {},
   "source": [
    "## keyboard"
   ]
  },
  {
   "cell_type": "markdown",
   "metadata": {},
   "source": [
    "## events"
   ]
  },
  {
   "cell_type": "markdown",
   "metadata": {},
   "source": [
    "## collision"
   ]
  },
  {
   "cell_type": "code",
   "execution_count": null,
   "metadata": {},
   "outputs": [],
   "source": []
  }
 ],
 "metadata": {
  "kernelspec": {
   "display_name": "Python 3",
   "language": "python",
   "name": "python3"
  },
  "language_info": {
   "codemirror_mode": {
    "name": "ipython",
    "version": 3
   },
   "file_extension": ".py",
   "mimetype": "text/x-python",
   "name": "python",
   "nbconvert_exporter": "python",
   "pygments_lexer": "ipython3",
   "version": "3.8.10"
  }
 },
 "nbformat": 4,
 "nbformat_minor": 4
}
